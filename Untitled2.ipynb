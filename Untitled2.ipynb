{
  "nbformat": 4,
  "nbformat_minor": 0,
  "metadata": {
    "colab": {
      "name": "Untitled2.ipynb",
      "provenance": []
    },
    "kernelspec": {
      "name": "python3",
      "display_name": "Python 3"
    }
  },
  "cells": [
    {
      "cell_type": "code",
      "metadata": {
        "id": "9YKb4M6dmVEW"
      },
      "source": [
        "lst = [1,45,27,85,74,9657,45,12,12,75,48,2,7533,566,56,45]"
      ],
      "execution_count": null,
      "outputs": []
    },
    {
      "cell_type": "code",
      "metadata": {
        "id": "W5PdKk0dmypW"
      },
      "source": [
        "lst.append(12)"
      ],
      "execution_count": null,
      "outputs": []
    },
    {
      "cell_type": "code",
      "metadata": {
        "colab": {
          "base_uri": "https://localhost:8080/"
        },
        "id": "I4pvN0HRnC3u",
        "outputId": "0f78e039-0ac3-4fd9-941c-7b241d043c36"
      },
      "source": [
        "lst"
      ],
      "execution_count": null,
      "outputs": [
        {
          "output_type": "execute_result",
          "data": {
            "text/plain": [
              "[1, 45, 27, 85, 74, 9657, 45, 12, 12, 75, 48, 2, 7533, 566, 56, 45, 12]"
            ]
          },
          "metadata": {
            "tags": []
          },
          "execution_count": 3
        }
      ]
    },
    {
      "cell_type": "code",
      "metadata": {
        "colab": {
          "base_uri": "https://localhost:8080/"
        },
        "id": "ljnauOEjnEP-",
        "outputId": "5f8a6b17-28e9-4c2d-f21a-7b2d676e043c"
      },
      "source": [
        "lst.count(12)"
      ],
      "execution_count": null,
      "outputs": [
        {
          "output_type": "execute_result",
          "data": {
            "text/plain": [
              "3"
            ]
          },
          "metadata": {
            "tags": []
          },
          "execution_count": 4
        }
      ]
    },
    {
      "cell_type": "code",
      "metadata": {
        "id": "XefnusHnnIsp"
      },
      "source": [
        "lst.extend([12,524,854,75])"
      ],
      "execution_count": null,
      "outputs": []
    },
    {
      "cell_type": "code",
      "metadata": {
        "colab": {
          "base_uri": "https://localhost:8080/"
        },
        "id": "92X3k_78nO3e",
        "outputId": "8548d0cf-d2a1-48e8-c6d4-1b9e8764a4e6"
      },
      "source": [
        "lst.index(2)"
      ],
      "execution_count": null,
      "outputs": [
        {
          "output_type": "execute_result",
          "data": {
            "text/plain": [
              "11"
            ]
          },
          "metadata": {
            "tags": []
          },
          "execution_count": 7
        }
      ]
    },
    {
      "cell_type": "code",
      "metadata": {
        "id": "zmTkNWERnUcc"
      },
      "source": [
        "lst.insert(5,744)"
      ],
      "execution_count": null,
      "outputs": []
    },
    {
      "cell_type": "code",
      "metadata": {
        "colab": {
          "base_uri": "https://localhost:8080/"
        },
        "id": "NrtrPtRfnjIL",
        "outputId": "3d9c983a-43c6-48a3-82f5-77037650abf4"
      },
      "source": [
        "lst"
      ],
      "execution_count": null,
      "outputs": [
        {
          "output_type": "execute_result",
          "data": {
            "text/plain": [
              "[1,\n",
              " 45,\n",
              " 27,\n",
              " 85,\n",
              " 74,\n",
              " 744,\n",
              " 9657,\n",
              " 45,\n",
              " 12,\n",
              " 12,\n",
              " 75,\n",
              " 48,\n",
              " 2,\n",
              " 7533,\n",
              " 566,\n",
              " 56,\n",
              " 45,\n",
              " 12,\n",
              " 12,\n",
              " 524,\n",
              " 854,\n",
              " 75]"
            ]
          },
          "metadata": {
            "tags": []
          },
          "execution_count": 9
        }
      ]
    },
    {
      "cell_type": "code",
      "metadata": {
        "colab": {
          "base_uri": "https://localhost:8080/"
        },
        "id": "FgLFDVowoYjo",
        "outputId": "227ded4d-1c35-46a1-831a-8f88809d35f1"
      },
      "source": [
        "lst.pop(2)"
      ],
      "execution_count": null,
      "outputs": [
        {
          "output_type": "execute_result",
          "data": {
            "text/plain": [
              "27"
            ]
          },
          "metadata": {
            "tags": []
          },
          "execution_count": 10
        }
      ]
    },
    {
      "cell_type": "code",
      "metadata": {
        "id": "mXQZY37foioY"
      },
      "source": [
        "lst.pop()"
      ],
      "execution_count": null,
      "outputs": []
    },
    {
      "cell_type": "code",
      "metadata": {
        "id": "P2IZKC_Mont5"
      },
      "source": [
        "lst.remove(12)"
      ],
      "execution_count": null,
      "outputs": []
    },
    {
      "cell_type": "code",
      "metadata": {
        "colab": {
          "base_uri": "https://localhost:8080/"
        },
        "id": "lvHpDMpiosZy",
        "outputId": "9fb81880-8f06-4075-a99c-4fec8aff72bc"
      },
      "source": [
        "lst"
      ],
      "execution_count": null,
      "outputs": [
        {
          "output_type": "execute_result",
          "data": {
            "text/plain": [
              "[1,\n",
              " 45,\n",
              " 85,\n",
              " 74,\n",
              " 744,\n",
              " 9657,\n",
              " 45,\n",
              " 12,\n",
              " 12,\n",
              " 75,\n",
              " 48,\n",
              " 2,\n",
              " 7533,\n",
              " 566,\n",
              " 56,\n",
              " 45,\n",
              " 12,\n",
              " 12,\n",
              " 524,\n",
              " 854,\n",
              " 75]"
            ]
          },
          "metadata": {
            "tags": []
          },
          "execution_count": 11
        }
      ]
    },
    {
      "cell_type": "markdown",
      "metadata": {
        "id": "CYA3jC3Fote9"
      },
      "source": [
        "lst.reverse()"
      ]
    },
    {
      "cell_type": "code",
      "metadata": {
        "id": "HSRkXDHuozry"
      },
      "source": [
        "lst.reverse()"
      ],
      "execution_count": null,
      "outputs": []
    },
    {
      "cell_type": "code",
      "metadata": {
        "colab": {
          "base_uri": "https://localhost:8080/"
        },
        "id": "qGk-YwFfo4lE",
        "outputId": "6f30f463-c7e6-4668-fc8b-6fc33ca4a14f"
      },
      "source": [
        "lst"
      ],
      "execution_count": null,
      "outputs": [
        {
          "output_type": "execute_result",
          "data": {
            "text/plain": [
              "[75,\n",
              " 854,\n",
              " 524,\n",
              " 12,\n",
              " 12,\n",
              " 45,\n",
              " 56,\n",
              " 566,\n",
              " 7533,\n",
              " 2,\n",
              " 48,\n",
              " 75,\n",
              " 12,\n",
              " 12,\n",
              " 45,\n",
              " 9657,\n",
              " 744,\n",
              " 74,\n",
              " 85,\n",
              " 45,\n",
              " 1]"
            ]
          },
          "metadata": {
            "tags": []
          },
          "execution_count": 13
        }
      ]
    },
    {
      "cell_type": "code",
      "metadata": {
        "id": "zF0mXINjo8r0"
      },
      "source": [
        "lst.sort()"
      ],
      "execution_count": null,
      "outputs": []
    },
    {
      "cell_type": "code",
      "metadata": {
        "colab": {
          "base_uri": "https://localhost:8080/"
        },
        "id": "ygscETTPo-WS",
        "outputId": "d6f33a82-0518-44b6-8363-d1aaca2a60f7"
      },
      "source": [
        "lst"
      ],
      "execution_count": null,
      "outputs": [
        {
          "output_type": "execute_result",
          "data": {
            "text/plain": [
              "[1,\n",
              " 2,\n",
              " 12,\n",
              " 12,\n",
              " 12,\n",
              " 12,\n",
              " 45,\n",
              " 45,\n",
              " 45,\n",
              " 48,\n",
              " 56,\n",
              " 74,\n",
              " 75,\n",
              " 75,\n",
              " 85,\n",
              " 524,\n",
              " 566,\n",
              " 744,\n",
              " 854,\n",
              " 7533,\n",
              " 9657]"
            ]
          },
          "metadata": {
            "tags": []
          },
          "execution_count": 15
        }
      ]
    },
    {
      "cell_type": "code",
      "metadata": {
        "colab": {
          "base_uri": "https://localhost:8080/"
        },
        "id": "2wDl3ljXpAnT",
        "outputId": "e7f52397-3807-45b5-e1f4-909bb689f0db"
      },
      "source": [
        "min(lst)"
      ],
      "execution_count": null,
      "outputs": [
        {
          "output_type": "execute_result",
          "data": {
            "text/plain": [
              "1"
            ]
          },
          "metadata": {
            "tags": []
          },
          "execution_count": 16
        }
      ]
    },
    {
      "cell_type": "code",
      "metadata": {
        "colab": {
          "base_uri": "https://localhost:8080/"
        },
        "id": "2i-HDYJ-pGli",
        "outputId": "4e24241e-ce01-4f53-87ce-9f9f3da9d5e2"
      },
      "source": [
        "max(lst)"
      ],
      "execution_count": null,
      "outputs": [
        {
          "output_type": "execute_result",
          "data": {
            "text/plain": [
              "9657"
            ]
          },
          "metadata": {
            "tags": []
          },
          "execution_count": 17
        }
      ]
    },
    {
      "cell_type": "code",
      "metadata": {
        "colab": {
          "base_uri": "https://localhost:8080/"
        },
        "id": "auohcuhFpJRJ",
        "outputId": "02ccf000-3d7a-4a8d-d16b-36dcf573b30c"
      },
      "source": [
        "lst[2:]"
      ],
      "execution_count": null,
      "outputs": [
        {
          "output_type": "execute_result",
          "data": {
            "text/plain": [
              "[12,\n",
              " 12,\n",
              " 12,\n",
              " 12,\n",
              " 45,\n",
              " 45,\n",
              " 45,\n",
              " 48,\n",
              " 56,\n",
              " 74,\n",
              " 75,\n",
              " 75,\n",
              " 85,\n",
              " 524,\n",
              " 566,\n",
              " 744,\n",
              " 854,\n",
              " 7533,\n",
              " 9657]"
            ]
          },
          "metadata": {
            "tags": []
          },
          "execution_count": 21
        }
      ]
    },
    {
      "cell_type": "code",
      "metadata": {
        "id": "wL8lSKzKpaec"
      },
      "source": [
        "dit = {'key':100, 'key1':200}"
      ],
      "execution_count": null,
      "outputs": []
    },
    {
      "cell_type": "code",
      "metadata": {
        "colab": {
          "base_uri": "https://localhost:8080/"
        },
        "id": "j_j7x1lup2uz",
        "outputId": "339efc8e-726e-4c0b-f26f-73b7a629ff3a"
      },
      "source": [
        "dit.get('key')"
      ],
      "execution_count": null,
      "outputs": [
        {
          "output_type": "execute_result",
          "data": {
            "text/plain": [
              "100"
            ]
          },
          "metadata": {
            "tags": []
          },
          "execution_count": 25
        }
      ]
    },
    {
      "cell_type": "code",
      "metadata": {
        "id": "x8UupJ9Qp6iX"
      },
      "source": [
        "biodata ={'name':'sahibaj','age':20,'loc':'mumbai'}"
      ],
      "execution_count": null,
      "outputs": []
    },
    {
      "cell_type": "code",
      "metadata": {
        "colab": {
          "base_uri": "https://localhost:8080/"
        },
        "id": "IwLUHFxXq1Bf",
        "outputId": "3d9ddf76-85ea-442b-d41d-2a1185ba7d55"
      },
      "source": [
        "biodata"
      ],
      "execution_count": null,
      "outputs": [
        {
          "output_type": "execute_result",
          "data": {
            "text/plain": [
              "{'age': 20, 'loc': 'mumbai', 'name': 'sahibaj'}"
            ]
          },
          "metadata": {
            "tags": []
          },
          "execution_count": 30
        }
      ]
    },
    {
      "cell_type": "code",
      "metadata": {
        "colab": {
          "base_uri": "https://localhost:8080/"
        },
        "id": "0tTawJqeq2O4",
        "outputId": "1f62e96d-8cc4-413a-c190-605682868298"
      },
      "source": [
        "biodata.keys()"
      ],
      "execution_count": null,
      "outputs": [
        {
          "output_type": "execute_result",
          "data": {
            "text/plain": [
              "dict_keys(['name', 'age', 'loc'])"
            ]
          },
          "metadata": {
            "tags": []
          },
          "execution_count": 31
        }
      ]
    },
    {
      "cell_type": "markdown",
      "metadata": {
        "id": "ywiyXfUKsAeq"
      },
      "source": [
        "biodata.values()"
      ]
    },
    {
      "cell_type": "code",
      "metadata": {
        "id": "M8y9v2gCsOg2"
      },
      "source": [
        ""
      ],
      "execution_count": null,
      "outputs": []
    },
    {
      "cell_type": "code",
      "metadata": {
        "colab": {
          "base_uri": "https://localhost:8080/"
        },
        "id": "n57u_j7SsQkh",
        "outputId": "6544d291-9e75-4364-ea1c-d7c385da278c"
      },
      "source": [
        "biodata.values()"
      ],
      "execution_count": null,
      "outputs": [
        {
          "output_type": "execute_result",
          "data": {
            "text/plain": [
              "dict_values(['sahibaj', 20, 'mumbai'])"
            ]
          },
          "metadata": {
            "tags": []
          },
          "execution_count": 33
        }
      ]
    },
    {
      "cell_type": "code",
      "metadata": {
        "colab": {
          "base_uri": "https://localhost:8080/",
          "height": 35
        },
        "id": "PhIoZ37zsTOf",
        "outputId": "58b2bd0c-7d26-43ab-dc3a-fcf638372484"
      },
      "source": [
        "biodata['name']"
      ],
      "execution_count": null,
      "outputs": [
        {
          "output_type": "execute_result",
          "data": {
            "application/vnd.google.colaboratory.intrinsic+json": {
              "type": "string"
            },
            "text/plain": [
              "'sahibaj'"
            ]
          },
          "metadata": {
            "tags": []
          },
          "execution_count": 35
        }
      ]
    },
    {
      "cell_type": "code",
      "metadata": {
        "id": "RmZERMQwtjIG"
      },
      "source": [
        ""
      ],
      "execution_count": null,
      "outputs": []
    },
    {
      "cell_type": "code",
      "metadata": {
        "colab": {
          "base_uri": "https://localhost:8080/"
        },
        "id": "UFh1zhO1tzK0",
        "outputId": "5063f0ad-e8c3-4c28-9335-0583d0bef8b6"
      },
      "source": [
        "biodata.keys()"
      ],
      "execution_count": null,
      "outputs": [
        {
          "output_type": "execute_result",
          "data": {
            "text/plain": [
              "dict_keys(['name', 'age', 'loc'])"
            ]
          },
          "metadata": {
            "tags": []
          },
          "execution_count": 36
        }
      ]
    },
    {
      "cell_type": "code",
      "metadata": {
        "colab": {
          "base_uri": "https://localhost:8080/",
          "height": 35
        },
        "id": "zHlsbInUt5nO",
        "outputId": "70268eaa-76d9-4f80-cced-cdaa8d84c3ef"
      },
      "source": [
        "biodata.get('hobbies','not found')"
      ],
      "execution_count": null,
      "outputs": [
        {
          "output_type": "execute_result",
          "data": {
            "application/vnd.google.colaboratory.intrinsic+json": {
              "type": "string"
            },
            "text/plain": [
              "'not found'"
            ]
          },
          "metadata": {
            "tags": []
          },
          "execution_count": 37
        }
      ]
    },
    {
      "cell_type": "code",
      "metadata": {
        "colab": {
          "base_uri": "https://localhost:8080/"
        },
        "id": "P2bSQsPDuUpL",
        "outputId": "8d640a04-2d33-42b8-b003-a49680dc73a8"
      },
      "source": [
        "print(biodata.get('hobibies'))"
      ],
      "execution_count": null,
      "outputs": [
        {
          "output_type": "stream",
          "text": [
            "None\n"
          ],
          "name": "stdout"
        }
      ]
    },
    {
      "cell_type": "code",
      "metadata": {
        "id": "KhAQZadYqGsF"
      },
      "source": [
        "keys = ['sahibaj','aditya','rohit']"
      ],
      "execution_count": null,
      "outputs": []
    },
    {
      "cell_type": "code",
      "metadata": {
        "id": "samOiJmAvafT"
      },
      "source": [
        "values = ['python','java','js']"
      ],
      "execution_count": null,
      "outputs": []
    },
    {
      "cell_type": "code",
      "metadata": {
        "id": "dtX1QRx6vgjX"
      },
      "source": [
        "data = dict(zip(keys,valuesm))"
      ],
      "execution_count": null,
      "outputs": []
    },
    {
      "cell_type": "code",
      "metadata": {
        "colab": {
          "base_uri": "https://localhost:8080/"
        },
        "id": "7c5lYWX3vp5S",
        "outputId": "e20440d9-036d-4895-c26a-8c77cf261dae"
      },
      "source": [
        "datam"
      ],
      "execution_count": null,
      "outputs": [
        {
          "output_type": "execute_result",
          "data": {
            "text/plain": [
              "{'aditya': 'java', 'rohit': 'js', 'sahibaj': 'python'}"
            ]
          },
          "metadata": {
            "tags": []
          },
          "execution_count": 45
        }
      ]
    },
    {
      "cell_type": "code",
      "metadata": {
        "id": "iPBwUrIWvrbH"
      },
      "source": [
        "data['virat']='cs'"
      ],
      "execution_count": null,
      "outputs": []
    },
    {
      "cell_type": "code",
      "metadata": {
        "colab": {
          "base_uri": "https://localhost:8080/"
        },
        "id": "rD6iXQTVwSfN",
        "outputId": "8fc47440-2573-46e5-eb55-6d9208cb69f8"
      },
      "source": [
        "data"
      ],
      "execution_count": null,
      "outputs": [
        {
          "output_type": "execute_result",
          "data": {
            "text/plain": [
              "{'aditya': 'java', 'rohit': 'js', 'sahibaj': 'python', 'virat': 'cs'}"
            ]
          },
          "metadata": {
            "tags": []
          },
          "execution_count": 48
        }
      ]
    },
    {
      "cell_type": "code",
      "metadata": {
        "id": "jn7bMTmywUah"
      },
      "source": [
        "del data['virat']"
      ],
      "execution_count": null,
      "outputs": []
    },
    {
      "cell_type": "code",
      "metadata": {
        "colab": {
          "base_uri": "https://localhost:8080/"
        },
        "id": "JM2Re86Zwf0F",
        "outputId": "786a63cd-0a2e-471a-f7dc-3f3753227ff9"
      },
      "source": [
        "datam"
      ],
      "execution_count": null,
      "outputs": [
        {
          "output_type": "execute_result",
          "data": {
            "text/plain": [
              "{'aditya': 'java', 'rohit': 'js', 'sahibaj': 'python'}"
            ]
          },
          "metadata": {
            "tags": []
          },
          "execution_count": 50
        }
      ]
    },
    {
      "cell_type": "code",
      "metadata": {
        "id": "8_Rr7gMFwg1q"
      },
      "source": [
        "program = {'sahibaj':'python','rohit':'java','virat': ['java','pyhton','js'],'bowlers':{'ashwin':'phthon','nadeem':'java'},'ishant':'js'}"
      ],
      "execution_count": null,
      "outputs": []
    },
    {
      "cell_type": "code",
      "metadata": {
        "colab": {
          "base_uri": "https://localhost:8080/"
        },
        "id": "b_DH0N900TkQ",
        "outputId": "c7f34c8c-6416-4014-92d4-add689a960bf"
      },
      "source": [
        "program"
      ],
      "execution_count": null,
      "outputs": [
        {
          "output_type": "execute_result",
          "data": {
            "text/plain": [
              "{'bowlers': {'ashwin': 'phthon', 'nadeem': 'java'},\n",
              " 'ishant': 'js',\n",
              " 'rohit': 'java',\n",
              " 'sahibaj': 'python',\n",
              " 'virat': ['java', 'pyhton', 'js']}"
            ]
          },
          "metadata": {
            "tags": []
          },
          "execution_count": 64
        }
      ]
    },
    {
      "cell_type": "code",
      "metadata": {
        "colab": {
          "base_uri": "https://localhost:8080/"
        },
        "id": "6Qf2ZLuU0V3Z",
        "outputId": "c8d3138f-c475-4e97-d63d-9f5839a87b43"
      },
      "source": [
        "program['virat']"
      ],
      "execution_count": null,
      "outputs": [
        {
          "output_type": "execute_result",
          "data": {
            "text/plain": [
              "['java', 'pyhton', 'js']"
            ]
          },
          "metadata": {
            "tags": []
          },
          "execution_count": 65
        }
      ]
    },
    {
      "cell_type": "code",
      "metadata": {
        "colab": {
          "base_uri": "https://localhost:8080/",
          "height": 35
        },
        "id": "Q5B2EOC3ydKK",
        "outputId": "a3e8dc5d-151c-4e87-d556-fb20852dcbaa"
      },
      "source": [
        "program['virat'][1]"
      ],
      "execution_count": null,
      "outputs": [
        {
          "output_type": "execute_result",
          "data": {
            "application/vnd.google.colaboratory.intrinsic+json": {
              "type": "string"
            },
            "text/plain": [
              "'pyhton'"
            ]
          },
          "metadata": {
            "tags": []
          },
          "execution_count": 66
        }
      ]
    },
    {
      "cell_type": "code",
      "metadata": {
        "colab": {
          "base_uri": "https://localhost:8080/",
          "height": 35
        },
        "id": "wvklAba70fkS",
        "outputId": "18d1f427-e4a7-42de-e12b-5782969b7b6f"
      },
      "source": [
        "program['bowlers']['nadeem']"
      ],
      "execution_count": null,
      "outputs": [
        {
          "output_type": "execute_result",
          "data": {
            "application/vnd.google.colaboratory.intrinsic+json": {
              "type": "string"
            },
            "text/plain": [
              "'java'"
            ]
          },
          "metadata": {
            "tags": []
          },
          "execution_count": 68
        }
      ]
    },
    {
      "cell_type": "code",
      "metadata": {
        "id": "RJN3RpJc0x82",
        "colab": {
          "base_uri": "https://localhost:8080/",
          "height": 163
        },
        "outputId": "1799174d-d49d-4dad-b620-2e12b9f60684"
      },
      "source": [
        "program"
      ],
      "execution_count": null,
      "outputs": [
        {
          "output_type": "error",
          "ename": "NameError",
          "evalue": "ignored",
          "traceback": [
            "\u001b[0;31m---------------------------------------------------------------------------\u001b[0m",
            "\u001b[0;31mNameError\u001b[0m                                 Traceback (most recent call last)",
            "\u001b[0;32m<ipython-input-2-3381093114df>\u001b[0m in \u001b[0;36m<module>\u001b[0;34m()\u001b[0m\n\u001b[0;32m----> 1\u001b[0;31m \u001b[0mprogram\u001b[0m\u001b[0;34m\u001b[0m\u001b[0;34m\u001b[0m\u001b[0m\n\u001b[0m",
            "\u001b[0;31mNameError\u001b[0m: name 'program' is not defined"
          ]
        }
      ]
    },
    {
      "cell_type": "code",
      "metadata": {
        "colab": {
          "base_uri": "https://localhost:8080/",
          "height": 163
        },
        "id": "jcfP2gjNqzwk",
        "outputId": "41adde57-47ac-4abf-e514-6a072e7d299c"
      },
      "source": [
        "program"
      ],
      "execution_count": null,
      "outputs": [
        {
          "output_type": "error",
          "ename": "NameError",
          "evalue": "ignored",
          "traceback": [
            "\u001b[0;31m---------------------------------------------------------------------------\u001b[0m",
            "\u001b[0;31mNameError\u001b[0m                                 Traceback (most recent call last)",
            "\u001b[0;32m<ipython-input-3-3381093114df>\u001b[0m in \u001b[0;36m<module>\u001b[0;34m()\u001b[0m\n\u001b[0;32m----> 1\u001b[0;31m \u001b[0mprogram\u001b[0m\u001b[0;34m\u001b[0m\u001b[0;34m\u001b[0m\u001b[0m\n\u001b[0m",
            "\u001b[0;31mNameError\u001b[0m: name 'program' is not defined"
          ]
        }
      ]
    },
    {
      "cell_type": "code",
      "metadata": {
        "colab": {
          "base_uri": "https://localhost:8080/",
          "height": 163
        },
        "id": "mzrDx-a_rEW9",
        "outputId": "c39f3caf-01cf-4249-f83e-510db1032ce3"
      },
      "source": [
        ""
      ],
      "execution_count": null,
      "outputs": [
        {
          "output_type": "error",
          "ename": "NameError",
          "evalue": "ignored",
          "traceback": [
            "\u001b[0;31m---------------------------------------------------------------------------\u001b[0m",
            "\u001b[0;31mNameError\u001b[0m                                 Traceback (most recent call last)",
            "\u001b[0;32m<ipython-input-4-3381093114df>\u001b[0m in \u001b[0;36m<module>\u001b[0;34m()\u001b[0m\n\u001b[0;32m----> 1\u001b[0;31m \u001b[0mprogram\u001b[0m\u001b[0;34m\u001b[0m\u001b[0;34m\u001b[0m\u001b[0m\n\u001b[0m",
            "\u001b[0;31mNameError\u001b[0m: name 'program' is not defined"
          ]
        }
      ]
    }
  ]
}