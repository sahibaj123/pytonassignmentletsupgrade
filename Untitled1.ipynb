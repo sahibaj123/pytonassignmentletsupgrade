{
  "nbformat": 4,
  "nbformat_minor": 0,
  "metadata": {
    "colab": {
      "name": "Untitled1.ipynb",
      "provenance": []
    },
    "kernelspec": {
      "name": "python3",
      "display_name": "Python 3"
    }
  },
  "cells": [
    {
      "cell_type": "code",
      "metadata": {
        "id": "u2eOt0SFbZWy"
      },
      "source": [
        "Integer  = [25,41,85,74,9635,25,45,65,15]"
      ],
      "execution_count": null,
      "outputs": []
    },
    {
      "cell_type": "code",
      "metadata": {
        "id": "Nwy_HJxObn_r"
      },
      "source": [
        "float = [12.3,14.5,12.6,14.5,15.3,12.8,14.5,16.5,15.5]"
      ],
      "execution_count": null,
      "outputs": []
    },
    {
      "cell_type": "code",
      "metadata": {
        "id": "8m5UtXRub1yg"
      },
      "source": [
        "values = ['sahibaj','virat','rohit','rishab','washinton']"
      ],
      "execution_count": null,
      "outputs": []
    },
    {
      "cell_type": "code",
      "metadata": {
        "id": "Csn8vaFocBiu"
      },
      "source": [
        "lst=[Integer, float, values]"
      ],
      "execution_count": null,
      "outputs": []
    },
    {
      "cell_type": "code",
      "metadata": {
        "colab": {
          "base_uri": "https://localhost:8080/"
        },
        "id": "tk0_6uR-cOXi",
        "outputId": "6eb7fbc8-6ded-4a5c-8ca0-c6a71b687db9"
      },
      "source": [
        "lst"
      ],
      "execution_count": null,
      "outputs": [
        {
          "output_type": "execute_result",
          "data": {
            "text/plain": [
              "[[25, 41, 85, 74, 9635, 25, 45, 65, 15],\n",
              " [12.3, 14.5, 12.6, 14.5, 15.3, 12.8, 14.5, 16.5, 15.5],\n",
              " ['sahibaj', 'virat', 'rohit', 'rishab', 'washinton']]"
            ]
          },
          "metadata": {
            "tags": []
          },
          "execution_count": 8
        }
      ]
    },
    {
      "cell_type": "code",
      "metadata": {
        "id": "NFCQ2fq2cR2J"
      },
      "source": [
        "lst.append(75)"
      ],
      "execution_count": null,
      "outputs": []
    },
    {
      "cell_type": "code",
      "metadata": {
        "colab": {
          "base_uri": "https://localhost:8080/"
        },
        "id": "qZ-VypQOcW1Z",
        "outputId": "98a7f001-27b0-4e0f-b2a7-f3b962f3e8a3"
      },
      "source": [
        "lst"
      ],
      "execution_count": null,
      "outputs": [
        {
          "output_type": "execute_result",
          "data": {
            "text/plain": [
              "[[25, 41, 85, 74, 9635, 25, 45, 65, 15],\n",
              " [12.3, 14.5, 12.6, 14.5, 15.3, 12.8, 14.5, 16.5, 15.5],\n",
              " ['sahibaj', 'virat', 'rohit', 'rishab', 'washinton'],\n",
              " 75]"
            ]
          },
          "metadata": {
            "tags": []
          },
          "execution_count": 10
        }
      ]
    },
    {
      "cell_type": "code",
      "metadata": {
        "id": "purOWZejcZrd"
      },
      "source": [
        "Integer.clear()"
      ],
      "execution_count": null,
      "outputs": []
    },
    {
      "cell_type": "code",
      "metadata": {
        "colab": {
          "base_uri": "https://localhost:8080/"
        },
        "id": "1GappNzlckfw",
        "outputId": "7214cbbf-0991-4a90-8231-806df6fb6540"
      },
      "source": [
        "lst"
      ],
      "execution_count": null,
      "outputs": [
        {
          "output_type": "execute_result",
          "data": {
            "text/plain": [
              "[[],\n",
              " [12.3, 14.5, 12.6, 14.5, 15.3, 12.8, 14.5, 16.5, 15.5],\n",
              " ['sahibaj', 'virat', 'rohit', 'rishab', 'washinton'],\n",
              " 75]"
            ]
          },
          "metadata": {
            "tags": []
          },
          "execution_count": 13
        }
      ]
    },
    {
      "cell_type": "code",
      "metadata": {
        "colab": {
          "base_uri": "https://localhost:8080/"
        },
        "id": "DrM51CBYcmU_",
        "outputId": "3713df92-4c9b-4548-ae7b-f653f740e773"
      },
      "source": [
        "lst.copy()"
      ],
      "execution_count": null,
      "outputs": [
        {
          "output_type": "execute_result",
          "data": {
            "text/plain": [
              "[[],\n",
              " [12.3, 14.5, 12.6, 14.5, 15.3, 12.8, 14.5, 16.5, 15.5],\n",
              " ['sahibaj', 'virat', 'rohit', 'rishab', 'washinton'],\n",
              " 75]"
            ]
          },
          "metadata": {
            "tags": []
          },
          "execution_count": 16
        }
      ]
    },
    {
      "cell_type": "code",
      "metadata": {
        "colab": {
          "base_uri": "https://localhost:8080/"
        },
        "id": "RCac3dv4c8RT",
        "outputId": "081f815a-722d-4cc6-91f3-5d2060904e5c"
      },
      "source": [
        "lst"
      ],
      "execution_count": null,
      "outputs": [
        {
          "output_type": "execute_result",
          "data": {
            "text/plain": [
              "[[],\n",
              " [12.3, 14.5, 12.6, 14.5, 15.3, 12.8, 14.5, 16.5, 15.5],\n",
              " ['sahibaj', 'virat', 'rohit', 'rishab', 'washinton'],\n",
              " 75]"
            ]
          },
          "metadata": {
            "tags": []
          },
          "execution_count": 17
        }
      ]
    },
    {
      "cell_type": "code",
      "metadata": {
        "colab": {
          "base_uri": "https://localhost:8080/"
        },
        "id": "2x4Y6I1uc_Up",
        "outputId": "49c4185a-8b3b-4f9a-d725-336231281867"
      },
      "source": [
        "lst.copy()"
      ],
      "execution_count": null,
      "outputs": [
        {
          "output_type": "execute_result",
          "data": {
            "text/plain": [
              "[[],\n",
              " [12.3, 14.5, 12.6, 14.5, 15.3, 12.8, 14.5, 16.5, 15.5],\n",
              " ['sahibaj', 'virat', 'rohit', 'rishab', 'washinton'],\n",
              " 75]"
            ]
          },
          "metadata": {
            "tags": []
          },
          "execution_count": 18
        }
      ]
    },
    {
      "cell_type": "code",
      "metadata": {
        "colab": {
          "base_uri": "https://localhost:8080/"
        },
        "id": "At4JQZPGchcr",
        "outputId": "7ddebabe-899e-4805-eb6c-0f0a0df3fc66"
      },
      "source": [
        "lst.count('sahibaj')"
      ],
      "execution_count": null,
      "outputs": [
        {
          "output_type": "execute_result",
          "data": {
            "text/plain": [
              "0"
            ]
          },
          "metadata": {
            "tags": []
          },
          "execution_count": 21
        }
      ]
    },
    {
      "cell_type": "code",
      "metadata": {
        "id": "hkZ1KkiFdL5J"
      },
      "source": [
        "lst.extend([854,754,657,856])"
      ],
      "execution_count": null,
      "outputs": []
    },
    {
      "cell_type": "code",
      "metadata": {
        "colab": {
          "base_uri": "https://localhost:8080/"
        },
        "id": "GHsVPFqbeHqK",
        "outputId": "7ad32e1c-d294-42d0-fcd4-52d9e667380f"
      },
      "source": [
        "lst"
      ],
      "execution_count": null,
      "outputs": [
        {
          "output_type": "execute_result",
          "data": {
            "text/plain": [
              "[[],\n",
              " [12.3, 14.5, 12.6, 14.5, 15.3, 12.8, 14.5, 16.5, 15.5],\n",
              " ['sahibaj', 'virat', 'rohit', 'rishab', 'washinton'],\n",
              " 75,\n",
              " 854,\n",
              " 754,\n",
              " 657,\n",
              " 856]"
            ]
          },
          "metadata": {
            "tags": []
          },
          "execution_count": 28
        }
      ]
    },
    {
      "cell_type": "code",
      "metadata": {
        "id": "SDRy9t7SeJ9a"
      },
      "source": [
        "lst.remove(657)"
      ],
      "execution_count": null,
      "outputs": []
    },
    {
      "cell_type": "code",
      "metadata": {
        "colab": {
          "base_uri": "https://localhost:8080/"
        },
        "id": "HmMqnipBeReu",
        "outputId": "ad44ce8f-715f-491c-f854-0797879472ea"
      },
      "source": [
        "lst"
      ],
      "execution_count": null,
      "outputs": [
        {
          "output_type": "execute_result",
          "data": {
            "text/plain": [
              "[[],\n",
              " [12.3, 14.5, 12.6, 14.5, 15.3, 12.8, 14.5, 16.5, 15.5],\n",
              " ['sahibaj', 'virat', 'rohit', 'rishab', 'washinton'],\n",
              " 75,\n",
              " 854,\n",
              " 754,\n",
              " 856]"
            ]
          },
          "metadata": {
            "tags": []
          },
          "execution_count": 31
        }
      ]
    },
    {
      "cell_type": "code",
      "metadata": {
        "id": "gm1oMZqGeS0F"
      },
      "source": [
        "del lst[7:]"
      ],
      "execution_count": null,
      "outputs": []
    },
    {
      "cell_type": "code",
      "metadata": {
        "colab": {
          "base_uri": "https://localhost:8080/"
        },
        "id": "zDJHjDJSehgB",
        "outputId": "6a74d86c-00c7-42a6-b01a-a55ca9621a1d"
      },
      "source": [
        "lstm"
      ],
      "execution_count": null,
      "outputs": [
        {
          "output_type": "execute_result",
          "data": {
            "text/plain": [
              "[[],\n",
              " [12.3, 14.5, 12.6, 14.5, 15.3, 12.8, 14.5, 16.5, 15.5],\n",
              " ['sahibaj', 'virat', 'rohit', 'rishab', 'washinton'],\n",
              " 75,\n",
              " 854,\n",
              " 754,\n",
              " 856]"
            ]
          },
          "metadata": {
            "tags": []
          },
          "execution_count": 36
        }
      ]
    },
    {
      "cell_type": "code",
      "metadata": {
        "id": "07FRF0AJekSY"
      },
      "source": [
        "del lst[5:]"
      ],
      "execution_count": null,
      "outputs": []
    },
    {
      "cell_type": "code",
      "metadata": {
        "colab": {
          "base_uri": "https://localhost:8080/"
        },
        "id": "MSEzGZk8eqSk",
        "outputId": "3e9f3465-d5bf-4031-fc71-f450ef5732d6"
      },
      "source": [
        "lst"
      ],
      "execution_count": null,
      "outputs": [
        {
          "output_type": "execute_result",
          "data": {
            "text/plain": [
              "[[],\n",
              " [12.3, 14.5, 12.6, 14.5, 15.3, 12.8, 14.5, 16.5, 15.5],\n",
              " ['sahibaj', 'virat', 'rohit', 'rishab', 'washinton'],\n",
              " 75,\n",
              " 854]"
            ]
          },
          "metadata": {
            "tags": []
          },
          "execution_count": 38
        }
      ]
    },
    {
      "cell_type": "code",
      "metadata": {
        "colab": {
          "base_uri": "https://localhost:8080/"
        },
        "id": "xEKl4pw4es5G",
        "outputId": "5bfe9d38-825b-449d-99a2-21dd88962faf"
      },
      "source": [
        "lst.index(75"
      ],
      "execution_count": null,
      "outputs": [
        {
          "output_type": "execute_result",
          "data": {
            "text/plain": [
              "3"
            ]
          },
          "metadata": {
            "tags": []
          },
          "execution_count": 42
        }
      ]
    },
    {
      "cell_type": "code",
      "metadata": {
        "colab": {
          "base_uri": "https://localhost:8080/"
        },
        "id": "w3Z3ir_9e7uV",
        "outputId": "92d44044-4050-4fb9-cc91-ca8dfbf419c7"
      },
      "source": [
        "  lst.count(75)"
      ],
      "execution_count": null,
      "outputs": [
        {
          "output_type": "execute_result",
          "data": {
            "text/plain": [
              "1"
            ]
          },
          "metadata": {
            "tags": []
          },
          "execution_count": 48
        }
      ]
    },
    {
      "cell_type": "code",
      "metadata": {
        "colab": {
          "base_uri": "https://localhost:8080/"
        },
        "id": "91DppBYkfsTc",
        "outputId": "e71ef7f2-10ad-483e-94d9-a73ad1377a49"
      },
      "source": [
        "lst.pop()"
      ],
      "execution_count": null,
      "outputs": [
        {
          "output_type": "execute_result",
          "data": {
            "text/plain": [
              "854"
            ]
          },
          "metadata": {
            "tags": []
          },
          "execution_count": 49
        }
      ]
    },
    {
      "cell_type": "code",
      "metadata": {
        "colab": {
          "base_uri": "https://localhost:8080/"
        },
        "id": "0rp_EWlmfw66",
        "outputId": "a76c3202-7cce-4b5f-e7a9-c9a977aa1b87"
      },
      "source": [
        "lst.pop(3)"
      ],
      "execution_count": null,
      "outputs": [
        {
          "output_type": "execute_result",
          "data": {
            "text/plain": [
              "75"
            ]
          },
          "metadata": {
            "tags": []
          },
          "execution_count": 50
        }
      ]
    },
    {
      "cell_type": "code",
      "metadata": {
        "id": "-2SH_JmCfzlm"
      },
      "source": [
        "lst.reverse()"
      ],
      "execution_count": null,
      "outputs": []
    },
    {
      "cell_type": "code",
      "metadata": {
        "colab": {
          "base_uri": "https://localhost:8080/"
        },
        "id": "wBy8e3nsf253",
        "outputId": "99e12172-2843-429c-c81e-9ede5c48608b"
      },
      "source": [
        "lst"
      ],
      "execution_count": null,
      "outputs": [
        {
          "output_type": "execute_result",
          "data": {
            "text/plain": [
              "[['sahibaj', 'virat', 'rohit', 'rishab', 'washinton'],\n",
              " [12.3, 14.5, 12.6, 14.5, 15.3, 12.8, 14.5, 16.5, 15.5],\n",
              " []]"
            ]
          },
          "metadata": {
            "tags": []
          },
          "execution_count": 53
        }
      ]
    },
    {
      "cell_type": "code",
      "metadata": {
        "colab": {
          "base_uri": "https://localhost:8080/",
          "height": 163
        },
        "id": "EySAlq8df_zT",
        "outputId": "2d77cb58-ccfa-457e-9456-cef36c126556"
      },
      "source": [
        "lst.reomve(12.3)"
      ],
      "execution_count": null,
      "outputs": [
        {
          "output_type": "error",
          "ename": "AttributeError",
          "evalue": "ignored",
          "traceback": [
            "\u001b[0;31m---------------------------------------------------------------------------\u001b[0m",
            "\u001b[0;31mAttributeError\u001b[0m                            Traceback (most recent call last)",
            "\u001b[0;32m<ipython-input-56-0de2f32877f4>\u001b[0m in \u001b[0;36m<module>\u001b[0;34m()\u001b[0m\n\u001b[0;32m----> 1\u001b[0;31m \u001b[0mlst\u001b[0m\u001b[0;34m.\u001b[0m\u001b[0mreomve\u001b[0m\u001b[0;34m(\u001b[0m\u001b[0;36m12.3\u001b[0m\u001b[0;34m)\u001b[0m\u001b[0;34m\u001b[0m\u001b[0;34m\u001b[0m\u001b[0m\n\u001b[0m",
            "\u001b[0;31mAttributeError\u001b[0m: 'list' object has no attribute 'reomve'"
          ]
        }
      ]
    },
    {
      "cell_type": "code",
      "metadata": {
        "colab": {
          "base_uri": "https://localhost:8080/"
        },
        "id": "zogB66PzgE0y",
        "outputId": "99486fd9-c4ae-4c7a-ece5-1f159834fdbd"
      },
      "source": [
        "lst"
      ],
      "execution_count": null,
      "outputs": [
        {
          "output_type": "execute_result",
          "data": {
            "text/plain": [
              "[['sahibaj', 'virat', 'rohit', 'rishab', 'washinton'],\n",
              " [12.3, 14.5, 12.6, 14.5, 15.3, 12.8, 14.5, 16.5, 15.5],\n",
              " []]"
            ]
          },
          "metadata": {
            "tags": []
          },
          "execution_count": 59
        }
      ]
    },
    {
      "cell_type": "code",
      "metadata": {
        "id": "EkntTtnZggEM"
      },
      "source": [
        "lst.insert(1,75)"
      ],
      "execution_count": null,
      "outputs": []
    },
    {
      "cell_type": "code",
      "metadata": {
        "colab": {
          "base_uri": "https://localhost:8080/"
        },
        "id": "1gTRwN9Kgsek",
        "outputId": "09cb1a3b-1e57-4e43-8638-fc1da818bbb1"
      },
      "source": [
        "lst.iin"
      ],
      "execution_count": null,
      "outputs": [
        {
          "output_type": "execute_result",
          "data": {
            "text/plain": [
              "[['sahibaj', 'virat', 'rohit', 'rishab', 'washinton'],\n",
              " 75,\n",
              " 75,\n",
              " [12.3, 14.5, 12.6, 14.5, 15.3, 12.8, 14.5, 16.5, 15.5],\n",
              " []]"
            ]
          },
          "metadata": {
            "tags": []
          },
          "execution_count": 62
        }
      ]
    },
    {
      "cell_type": "code",
      "metadata": {
        "id": "o2ISlhablIuY"
      },
      "source": [
        "lst=['sahibaj','virat,','rohit','rishab']"
      ],
      "execution_count": null,
      "outputs": []
    },
    {
      "cell_type": "code",
      "metadata": {
        "id": "k5oes3oE1Wjl"
      },
      "source": [
        "values=[12,41,275,485,7412,7855,785,87855,7855,875,55]"
      ],
      "execution_count": null,
      "outputs": []
    },
    {
      "cell_type": "code",
      "metadata": {
        "id": "6Wruk0qA1GIg"
      },
      "source": [
        "data=[lst, values]"
      ],
      "execution_count": null,
      "outputs": []
    },
    {
      "cell_type": "code",
      "metadata": {
        "colab": {
          "base_uri": "https://localhost:8080/"
        },
        "id": "Ldp9Ito21oVw",
        "outputId": "38a9c5ee-dcd8-4009-a490-3d5c703b9494"
      },
      "source": [
        "data"
      ],
      "execution_count": null,
      "outputs": [
        {
          "output_type": "execute_result",
          "data": {
            "text/plain": [
              "[['sahibaj', 'virat,', 'rohit', 'rishab'],\n",
              " [12, 41, 275, 485, 7412, 7855, 785, 87855, 7855, 875, 55]]"
            ]
          },
          "metadata": {
            "tags": []
          },
          "execution_count": 9
        }
      ]
    },
    {
      "cell_type": "code",
      "metadata": {
        "colab": {
          "base_uri": "https://localhost:8080/",
          "height": 163
        },
        "id": "ujXulWOp1ppn",
        "outputId": "544d9a78-8ab6-4130-f635-2cdb30cd8f81"
      },
      "source": [
        "data.index('sahibaj')"
      ],
      "execution_count": null,
      "outputs": [
        {
          "output_type": "error",
          "ename": "ValueError",
          "evalue": "ignored",
          "traceback": [
            "\u001b[0;31m---------------------------------------------------------------------------\u001b[0m",
            "\u001b[0;31mValueError\u001b[0m                                Traceback (most recent call last)",
            "\u001b[0;32m<ipython-input-10-ad44d1ce8de4>\u001b[0m in \u001b[0;36m<module>\u001b[0;34m()\u001b[0m\n\u001b[0;32m----> 1\u001b[0;31m \u001b[0mdata\u001b[0m\u001b[0;34m.\u001b[0m\u001b[0mindex\u001b[0m\u001b[0;34m(\u001b[0m\u001b[0;34m'sahibaj'\u001b[0m\u001b[0;34m)\u001b[0m\u001b[0;34m\u001b[0m\u001b[0;34m\u001b[0m\u001b[0m\n\u001b[0m",
            "\u001b[0;31mValueError\u001b[0m: 'sahibaj' is not in list"
          ]
        }
      ]
    }
  ]
}