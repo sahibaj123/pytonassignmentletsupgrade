{
  "nbformat": 4,
  "nbformat_minor": 0,
  "metadata": {
    "colab": {
      "name": "Untitled4.ipynb",
      "provenance": []
    },
    "kernelspec": {
      "name": "python3",
      "display_name": "Python 3"
    }
  },
  "cells": [
    {
      "cell_type": "code",
      "metadata": {
        "id": "jPcDXyt55t1a"
      },
      "source": [
        "plane_altitude=1000"
      ],
      "execution_count": null,
      "outputs": []
    },
    {
      "cell_type": "code",
      "metadata": {
        "colab": {
          "base_uri": "https://localhost:8080/"
        },
        "id": "UeRWH0T75vYy",
        "outputId": "fd027b7c-29e1-40f0-c8a9-1576d8564522"
      },
      "source": [
        "if plane_altitude<=1000:\r\n",
        "  print('Land the plane')"
      ],
      "execution_count": null,
      "outputs": [
        {
          "output_type": "stream",
          "text": [
            "Land the plane\n"
          ],
          "name": "stdout"
        }
      ]
    },
    {
      "cell_type": "code",
      "metadata": {
        "id": "YlK-M0hD5yUQ"
      },
      "source": [
        "plane_altitude=2000"
      ],
      "execution_count": null,
      "outputs": []
    },
    {
      "cell_type": "code",
      "metadata": {
        "colab": {
          "base_uri": "https://localhost:8080/"
        },
        "id": "SwKviCQF50IV",
        "outputId": "16255c42-f7f4-46a5-c86b-d2dae521c319"
      },
      "source": [
        "if plane_altitude>1000:\r\n",
        "  print('come down to 1000ft')"
      ],
      "execution_count": null,
      "outputs": [
        {
          "output_type": "stream",
          "text": [
            "come down to 1000ft\n"
          ],
          "name": "stdout"
        }
      ]
    },
    {
      "cell_type": "code",
      "metadata": {
        "id": "tehyFPBM53Kj"
      },
      "source": [
        "plane_altitude=6000"
      ],
      "execution_count": null,
      "outputs": []
    },
    {
      "cell_type": "code",
      "metadata": {
        "colab": {
          "base_uri": "https://localhost:8080/"
        },
        "id": "msVXczkJ5-ZE",
        "outputId": "f3131bc9-f01c-4bd6-dcf4-ed11aa52a017"
      },
      "source": [
        "if plane_altitude>5000:\r\n",
        "  print('Go around and try again')"
      ],
      "execution_count": null,
      "outputs": [
        {
          "output_type": "stream",
          "text": [
            "Go around and try again\n"
          ],
          "name": "stdout"
        }
      ]
    }
  ]
}